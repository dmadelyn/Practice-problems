{
  "nbformat": 4,
  "nbformat_minor": 0,
  "metadata": {
    "colab": {
      "provenance": [],
      "authorship_tag": "ABX9TyNeY3DD5BfMEuk+LJcJt0Ra",
      "include_colab_link": true
    },
    "kernelspec": {
      "name": "python3",
      "display_name": "Python 3"
    },
    "language_info": {
      "name": "python"
    }
  },
  "cells": [
    {
      "cell_type": "markdown",
      "metadata": {
        "id": "view-in-github",
        "colab_type": "text"
      },
      "source": [
        "<a href=\"https://colab.research.google.com/github/dmadelyn/Practice-problems/blob/main/Python_Practice_Problems.ipynb\" target=\"_parent\"><img src=\"https://colab.research.google.com/assets/colab-badge.svg\" alt=\"Open In Colab\"/></a>"
      ]
    },
    {
      "cell_type": "markdown",
      "source": [],
      "metadata": {
        "id": "AQQUUoQeeA7n"
      }
    },
    {
      "cell_type": "markdown",
      "source": [
        "# Minimum deletions to make string balanced - Medium\n",
        "\n",
        "*   List item\n",
        "*   List item\n",
        "\n",
        "\n",
        "\n",
        "* string\n",
        "* dynamic programming\n",
        "* stack"
      ],
      "metadata": {
        "id": "RJjWdF0AeCv-"
      }
    },
    {
      "cell_type": "code",
      "execution_count": null,
      "metadata": {
        "colab": {
          "base_uri": "https://localhost:8080/"
        },
        "id": "Lsa34Q57d92E",
        "outputId": "c1d1d0eb-6c92-4263-ebb0-0934a7dc67be"
      },
      "outputs": [
        {
          "output_type": "stream",
          "name": "stdout",
          "text": [
            "2\n"
          ]
        }
      ],
      "source": [
        " def minimumDeletions(s: str) -> int:\n",
        "        # any b's before the first a must be deleted unless no a's\n",
        "        # at each step we either keep or delete\n",
        "\n",
        "\n",
        "        # maintain a count of number of a's, dynamic count of b's, find min\n",
        "        a_count = sum(1 for ch in s if ch == \"a\")\n",
        "        b_count = 0\n",
        "        min_deletions = len(s)\n",
        "\n",
        "        for i in range(len(s)):\n",
        "            if s[i] == \"a\":\n",
        "                a_count -= 1\n",
        "            min_deletions = min(min_deletions, a_count + b_count)\n",
        "            if s[i] == \"b\":\n",
        "                b_count += 1\n",
        "\n",
        "        return min_deletions\n",
        "\n",
        "\n",
        "s = \"aababbab\"\n",
        "print(minimumDeletions(s))"
      ]
    },
    {
      "cell_type": "markdown",
      "source": [
        "# Kth distinct string in an array"
      ],
      "metadata": {
        "id": "KIBcYyO00Y3Z"
      }
    },
    {
      "cell_type": "code",
      "source": [
        "from collections import defaultdict\n",
        "from typing import List\n",
        "\n",
        "def kthDistinct(arr: List[str], k: int) -> str:\n",
        "        #iterate, count # occurrences\n",
        "        #iterate, incr ctr and check if its distinct until k\n",
        "\n",
        "        counts = defaultdict(int)\n",
        "\n",
        "        for word in arr:\n",
        "            counts[word] += 1\n",
        "\n",
        "        for word in arr:\n",
        "            if counts[word] == 1:\n",
        "                k -= 1\n",
        "\n",
        "            if k == 0:\n",
        "                return word\n",
        "\n",
        "        return \"\"\n",
        "\n",
        "arr = [\"d\",\"b\",\"c\",\"b\",\"c\",\"a\"]\n",
        "\n",
        "k = 2\n",
        "\n",
        "print(kthDistinct(arr, k))\n",
        "# should print a"
      ],
      "metadata": {
        "colab": {
          "base_uri": "https://localhost:8080/"
        },
        "id": "cHKMs57JzixY",
        "outputId": "96bce613-4fe9-49a3-fcae-a18a6ea79fbd"
      },
      "execution_count": null,
      "outputs": [
        {
          "output_type": "stream",
          "name": "stdout",
          "text": [
            "a\n"
          ]
        }
      ]
    }
  ]
}